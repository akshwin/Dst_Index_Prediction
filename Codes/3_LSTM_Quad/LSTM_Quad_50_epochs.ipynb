{
 "cells": [
  {
   "cell_type": "markdown",
   "metadata": {},
   "source": [
    "# DST PREDICTION "
   ]
  },
  {
   "cell_type": "markdown",
   "metadata": {},
   "source": [
    "# IMPORT LIBRARIES"
   ]
  },
  {
   "cell_type": "code",
   "execution_count": 1,
   "metadata": {
    "execution": {
     "iopub.execute_input": "2025-03-11T04:50:43.642584Z",
     "iopub.status.busy": "2025-03-11T04:50:43.642400Z",
     "iopub.status.idle": "2025-03-11T04:50:57.562331Z",
     "shell.execute_reply": "2025-03-11T04:50:57.561628Z",
     "shell.execute_reply.started": "2025-03-11T04:50:43.642566Z"
    }
   },
   "outputs": [],
   "source": [
    "import numpy as np \n",
    "import pandas as  pd \n",
    "import matplotlib.pyplot\n",
    "import seaborn as sns \n",
    "import tensorflow as tf \n",
    "from tensorflow import keras\n",
    "from tensorflow.keras import layers\n",
    "from sklearn.metrics import mean_absolute_error, mean_squared_error, r2_score"
   ]
  },
  {
   "cell_type": "markdown",
   "metadata": {},
   "source": [
    "# LOAD DATA"
   ]
  },
  {
   "cell_type": "code",
   "execution_count": 2,
   "metadata": {
    "execution": {
     "iopub.execute_input": "2025-03-11T04:50:57.563726Z",
     "iopub.status.busy": "2025-03-11T04:50:57.563119Z",
     "iopub.status.idle": "2025-03-11T04:50:58.142866Z",
     "shell.execute_reply": "2025-03-11T04:50:58.141911Z",
     "shell.execute_reply.started": "2025-03-11T04:50:57.563685Z"
    }
   },
   "outputs": [
    {
     "name": "stderr",
     "output_type": "stream",
     "text": [
      "/usr/local/lib/python3.10/dist-packages/pandas/io/formats/format.py:1458: RuntimeWarning: invalid value encountered in greater\n",
      "  has_large_values = (abs_vals > 1e6).any()\n",
      "/usr/local/lib/python3.10/dist-packages/pandas/io/formats/format.py:1459: RuntimeWarning: invalid value encountered in less\n",
      "  has_small_values = ((abs_vals < 10 ** (-self.digits)) & (abs_vals > 0)).any()\n",
      "/usr/local/lib/python3.10/dist-packages/pandas/io/formats/format.py:1459: RuntimeWarning: invalid value encountered in greater\n",
      "  has_small_values = ((abs_vals < 10 ** (-self.digits)) & (abs_vals > 0)).any()\n"
     ]
    },
    {
     "data": {
      "text/html": [
       "<div>\n",
       "<style scoped>\n",
       "    .dataframe tbody tr th:only-of-type {\n",
       "        vertical-align: middle;\n",
       "    }\n",
       "\n",
       "    .dataframe tbody tr th {\n",
       "        vertical-align: top;\n",
       "    }\n",
       "\n",
       "    .dataframe thead th {\n",
       "        text-align: right;\n",
       "    }\n",
       "</style>\n",
       "<table border=\"1\" class=\"dataframe\">\n",
       "  <thead>\n",
       "    <tr style=\"text-align: right;\">\n",
       "      <th></th>\n",
       "      <th>period</th>\n",
       "      <th>timedelta</th>\n",
       "      <th>dst</th>\n",
       "      <th>bx_gse</th>\n",
       "      <th>by_gse</th>\n",
       "      <th>bz_gse</th>\n",
       "      <th>theta_gse</th>\n",
       "      <th>phi_gse</th>\n",
       "      <th>bx_gsm</th>\n",
       "      <th>by_gsm</th>\n",
       "      <th>bz_gsm</th>\n",
       "      <th>theta_gsm</th>\n",
       "      <th>phi_gsm</th>\n",
       "      <th>bt</th>\n",
       "      <th>density</th>\n",
       "      <th>speed</th>\n",
       "      <th>temperature</th>\n",
       "      <th>source</th>\n",
       "    </tr>\n",
       "  </thead>\n",
       "  <tbody>\n",
       "    <tr>\n",
       "      <th>0</th>\n",
       "      <td>train_a</td>\n",
       "      <td>0 days 00:00:00</td>\n",
       "      <td>-7</td>\n",
       "      <td>-5.55</td>\n",
       "      <td>3.00</td>\n",
       "      <td>1.25</td>\n",
       "      <td>11.09</td>\n",
       "      <td>153.37</td>\n",
       "      <td>-5.55</td>\n",
       "      <td>3.00</td>\n",
       "      <td>1.25</td>\n",
       "      <td>11.09</td>\n",
       "      <td>153.37</td>\n",
       "      <td>6.80</td>\n",
       "      <td>1.53</td>\n",
       "      <td>383.92</td>\n",
       "      <td>110237.0</td>\n",
       "      <td>ac</td>\n",
       "    </tr>\n",
       "    <tr>\n",
       "      <th>1</th>\n",
       "      <td>train_a</td>\n",
       "      <td>0 days 01:00:00</td>\n",
       "      <td>-10</td>\n",
       "      <td>-6.56</td>\n",
       "      <td>0.27</td>\n",
       "      <td>1.35</td>\n",
       "      <td>11.21</td>\n",
       "      <td>178.22</td>\n",
       "      <td>-6.56</td>\n",
       "      <td>0.27</td>\n",
       "      <td>1.35</td>\n",
       "      <td>11.21</td>\n",
       "      <td>178.22</td>\n",
       "      <td>7.01</td>\n",
       "      <td>0.36</td>\n",
       "      <td>317.16</td>\n",
       "      <td>NaN</td>\n",
       "      <td>ac</td>\n",
       "    </tr>\n",
       "    <tr>\n",
       "      <th>2</th>\n",
       "      <td>train_a</td>\n",
       "      <td>0 days 02:00:00</td>\n",
       "      <td>-10</td>\n",
       "      <td>-7.22</td>\n",
       "      <td>0.82</td>\n",
       "      <td>2.02</td>\n",
       "      <td>15.01</td>\n",
       "      <td>174.17</td>\n",
       "      <td>-7.22</td>\n",
       "      <td>0.82</td>\n",
       "      <td>2.02</td>\n",
       "      <td>15.01</td>\n",
       "      <td>174.17</td>\n",
       "      <td>7.84</td>\n",
       "      <td>1.27</td>\n",
       "      <td>336.55</td>\n",
       "      <td>44423.0</td>\n",
       "      <td>ac</td>\n",
       "    </tr>\n",
       "    <tr>\n",
       "      <th>3</th>\n",
       "      <td>train_a</td>\n",
       "      <td>0 days 03:00:00</td>\n",
       "      <td>-6</td>\n",
       "      <td>-6.83</td>\n",
       "      <td>1.33</td>\n",
       "      <td>3.32</td>\n",
       "      <td>24.42</td>\n",
       "      <td>170.00</td>\n",
       "      <td>-6.83</td>\n",
       "      <td>1.33</td>\n",
       "      <td>3.32</td>\n",
       "      <td>24.42</td>\n",
       "      <td>170.00</td>\n",
       "      <td>8.02</td>\n",
       "      <td>0.77</td>\n",
       "      <td>352.57</td>\n",
       "      <td>45112.0</td>\n",
       "      <td>ac</td>\n",
       "    </tr>\n",
       "    <tr>\n",
       "      <th>4</th>\n",
       "      <td>train_a</td>\n",
       "      <td>0 days 04:00:00</td>\n",
       "      <td>-2</td>\n",
       "      <td>NaN</td>\n",
       "      <td>NaN</td>\n",
       "      <td>NaN</td>\n",
       "      <td>NaN</td>\n",
       "      <td>NaN</td>\n",
       "      <td>NaN</td>\n",
       "      <td>NaN</td>\n",
       "      <td>NaN</td>\n",
       "      <td>NaN</td>\n",
       "      <td>NaN</td>\n",
       "      <td>NaN</td>\n",
       "      <td>NaN</td>\n",
       "      <td>NaN</td>\n",
       "      <td>NaN</td>\n",
       "      <td>NaN</td>\n",
       "    </tr>\n",
       "  </tbody>\n",
       "</table>\n",
       "</div>"
      ],
      "text/plain": [
       "    period        timedelta  dst  bx_gse  by_gse  bz_gse  theta_gse  phi_gse  \\\n",
       "0  train_a  0 days 00:00:00   -7   -5.55    3.00    1.25      11.09   153.37   \n",
       "1  train_a  0 days 01:00:00  -10   -6.56    0.27    1.35      11.21   178.22   \n",
       "2  train_a  0 days 02:00:00  -10   -7.22    0.82    2.02      15.01   174.17   \n",
       "3  train_a  0 days 03:00:00   -6   -6.83    1.33    3.32      24.42   170.00   \n",
       "4  train_a  0 days 04:00:00   -2     NaN     NaN     NaN        NaN      NaN   \n",
       "\n",
       "   bx_gsm  by_gsm  bz_gsm  theta_gsm  phi_gsm    bt  density   speed  \\\n",
       "0   -5.55    3.00    1.25      11.09   153.37  6.80     1.53  383.92   \n",
       "1   -6.56    0.27    1.35      11.21   178.22  7.01     0.36  317.16   \n",
       "2   -7.22    0.82    2.02      15.01   174.17  7.84     1.27  336.55   \n",
       "3   -6.83    1.33    3.32      24.42   170.00  8.02     0.77  352.57   \n",
       "4     NaN     NaN     NaN        NaN      NaN   NaN      NaN     NaN   \n",
       "\n",
       "   temperature source  \n",
       "0     110237.0     ac  \n",
       "1          NaN     ac  \n",
       "2      44423.0     ac  \n",
       "3      45112.0     ac  \n",
       "4          NaN    NaN  "
      ]
     },
     "execution_count": 2,
     "metadata": {},
     "output_type": "execute_result"
    }
   ],
   "source": [
    "df = pd.read_csv('/kaggle/input/dst-dataset/data.csv')\n",
    "df.head()"
   ]
  },
  {
   "cell_type": "code",
   "execution_count": 3,
   "metadata": {
    "execution": {
     "iopub.execute_input": "2025-03-11T04:50:58.144483Z",
     "iopub.status.busy": "2025-03-11T04:50:58.144254Z",
     "iopub.status.idle": "2025-03-11T04:50:58.149605Z",
     "shell.execute_reply": "2025-03-11T04:50:58.148806Z",
     "shell.execute_reply.started": "2025-03-11T04:50:58.144465Z"
    }
   },
   "outputs": [
    {
     "data": {
      "text/plain": [
       "Index(['period', 'timedelta', 'dst', 'bx_gse', 'by_gse', 'bz_gse', 'theta_gse',\n",
       "       'phi_gse', 'bx_gsm', 'by_gsm', 'bz_gsm', 'theta_gsm', 'phi_gsm', 'bt',\n",
       "       'density', 'speed', 'temperature', 'source'],\n",
       "      dtype='object')"
      ]
     },
     "execution_count": 3,
     "metadata": {},
     "output_type": "execute_result"
    }
   ],
   "source": [
    "df.columns"
   ]
  },
  {
   "cell_type": "markdown",
   "metadata": {},
   "source": [
    "# DATASET ANALYSIS"
   ]
  },
  {
   "cell_type": "code",
   "execution_count": 4,
   "metadata": {
    "execution": {
     "iopub.execute_input": "2025-03-11T04:50:58.151207Z",
     "iopub.status.busy": "2025-03-11T04:50:58.150949Z",
     "iopub.status.idle": "2025-03-11T04:50:58.223438Z",
     "shell.execute_reply": "2025-03-11T04:50:58.222576Z",
     "shell.execute_reply.started": "2025-03-11T04:50:58.151189Z"
    }
   },
   "outputs": [
    {
     "name": "stdout",
     "output_type": "stream",
     "text": [
      "<class 'pandas.core.frame.DataFrame'>\n",
      "RangeIndex: 139872 entries, 0 to 139871\n",
      "Data columns (total 18 columns):\n",
      " #   Column       Non-Null Count   Dtype  \n",
      "---  ------       --------------   -----  \n",
      " 0   period       139872 non-null  object \n",
      " 1   timedelta    139872 non-null  object \n",
      " 2   dst          139872 non-null  int64  \n",
      " 3   bx_gse       134128 non-null  float64\n",
      " 4   by_gse       134128 non-null  float64\n",
      " 5   bz_gse       134128 non-null  float64\n",
      " 6   theta_gse    134128 non-null  float64\n",
      " 7   phi_gse      134119 non-null  float64\n",
      " 8   bx_gsm       134128 non-null  float64\n",
      " 9   by_gsm       134128 non-null  float64\n",
      " 10  bz_gsm       134128 non-null  float64\n",
      " 11  theta_gsm    134128 non-null  float64\n",
      " 12  phi_gsm      134119 non-null  float64\n",
      " 13  bt           134128 non-null  float64\n",
      " 14  density      128035 non-null  float64\n",
      " 15  speed        127946 non-null  float64\n",
      " 16  temperature  125865 non-null  float64\n",
      " 17  source       134409 non-null  object \n",
      "dtypes: float64(14), int64(1), object(3)\n",
      "memory usage: 19.2+ MB\n",
      "None\n"
     ]
    }
   ],
   "source": [
    "print(df.info()) "
   ]
  },
  {
   "cell_type": "code",
   "execution_count": 5,
   "metadata": {
    "execution": {
     "iopub.execute_input": "2025-03-11T04:50:58.224552Z",
     "iopub.status.busy": "2025-03-11T04:50:58.224269Z",
     "iopub.status.idle": "2025-03-11T04:50:58.339561Z",
     "shell.execute_reply": "2025-03-11T04:50:58.338764Z",
     "shell.execute_reply.started": "2025-03-11T04:50:58.224531Z"
    }
   },
   "outputs": [
    {
     "name": "stdout",
     "output_type": "stream",
     "text": [
      "                 dst         bx_gse         by_gse         bz_gse  \\\n",
      "count  139872.000000  134128.000000  134128.000000  134128.000000   \n",
      "mean      -11.055236      -0.653479       0.110439      -0.024452   \n",
      "std        19.069327       3.669085       3.972190       3.352512   \n",
      "min      -387.000000     -44.690000     -35.520000     -46.620000   \n",
      "25%       -18.000000      -3.270000      -2.450000      -1.710000   \n",
      "50%        -8.000000      -0.660000       0.100000       0.010000   \n",
      "75%         0.000000       2.020000       2.640000       1.680000   \n",
      "max        67.000000      29.980000      50.620000      49.620000   \n",
      "\n",
      "           theta_gse        phi_gse         bx_gsm         by_gsm  \\\n",
      "count  134128.000000  134119.000000  134128.000000  134128.000000   \n",
      "mean        0.103148     194.262941      -0.653318       0.088571   \n",
      "std        32.130392      96.687705       3.666963       3.909007   \n",
      "min       -89.600000       0.000000     -44.680000     -35.010000   \n",
      "25%       -21.520000     123.980000      -3.270000      -2.380000   \n",
      "50%         0.080000     177.110000      -0.660000       0.080000   \n",
      "75%        21.600000     286.770000       2.020000       2.540000   \n",
      "max        89.690000     360.000000      29.980000      52.400000   \n",
      "\n",
      "              bz_gsm      theta_gsm        phi_gsm             bt  \\\n",
      "count  134128.000000  134128.000000  134119.000000  134128.000000   \n",
      "mean       -0.029910       0.156005     194.332672       5.602426   \n",
      "std         3.428475      33.258723      96.924295       3.108037   \n",
      "min       -50.290000     -89.740000       0.000000       0.090000   \n",
      "25%        -1.800000     -22.860000     124.450000       3.640000   \n",
      "50%         0.000000      -0.020000     177.630000       4.950000   \n",
      "75%         1.780000      23.022500     286.740000       6.710000   \n",
      "max        51.600000      89.600000     360.000000      67.080000   \n",
      "\n",
      "             density          speed   temperature  \n",
      "count  128035.000000  127946.000000  1.258650e+05  \n",
      "mean        4.428397     430.604826  1.155083e+05  \n",
      "std         4.339507     100.541129  1.222630e+05  \n",
      "min         0.000000       0.000000  0.000000e+00  \n",
      "25%         1.790000     356.800000  3.976600e+04  \n",
      "50%         3.350000     409.780000  7.738300e+04  \n",
      "75%         5.710000     485.720000  1.514790e+05  \n",
      "max       190.790000    1136.020000  4.016337e+06  \n"
     ]
    }
   ],
   "source": [
    "print(df.describe()) "
   ]
  },
  {
   "cell_type": "code",
   "execution_count": 6,
   "metadata": {
    "execution": {
     "iopub.execute_input": "2025-03-11T04:50:58.340563Z",
     "iopub.status.busy": "2025-03-11T04:50:58.340334Z",
     "iopub.status.idle": "2025-03-11T04:50:58.346476Z",
     "shell.execute_reply": "2025-03-11T04:50:58.345845Z",
     "shell.execute_reply.started": "2025-03-11T04:50:58.340544Z"
    }
   },
   "outputs": [
    {
     "name": "stdout",
     "output_type": "stream",
     "text": [
      "period\n",
      "timedelta\n",
      "dst\n",
      "bx_gse\n",
      "by_gse\n",
      "bz_gse\n",
      "theta_gse\n",
      "phi_gse\n",
      "bx_gsm\n",
      "by_gsm\n",
      "bz_gsm\n",
      "theta_gsm\n",
      "phi_gsm\n",
      "bt\n",
      "density\n",
      "speed\n",
      "temperature\n",
      "source\n"
     ]
    }
   ],
   "source": [
    "for i in df.columns : \n",
    "    print(i)"
   ]
  },
  {
   "cell_type": "markdown",
   "metadata": {},
   "source": [
    "**NULL VALUE**"
   ]
  },
  {
   "cell_type": "code",
   "execution_count": 7,
   "metadata": {
    "execution": {
     "iopub.execute_input": "2025-03-11T04:50:58.347561Z",
     "iopub.status.busy": "2025-03-11T04:50:58.347312Z",
     "iopub.status.idle": "2025-03-11T04:50:58.392198Z",
     "shell.execute_reply": "2025-03-11T04:50:58.391539Z",
     "shell.execute_reply.started": "2025-03-11T04:50:58.347542Z"
    }
   },
   "outputs": [
    {
     "name": "stdout",
     "output_type": "stream",
     "text": [
      "0\n",
      "0\n",
      "0\n",
      "5744\n",
      "5744\n",
      "5744\n",
      "5744\n",
      "5753\n",
      "5744\n",
      "5744\n",
      "5744\n",
      "5744\n",
      "5753\n",
      "5744\n",
      "11837\n",
      "11926\n",
      "14007\n",
      "5463\n"
     ]
    }
   ],
   "source": [
    "print(df.period.isnull().sum())\n",
    "print(df.timedelta.isnull().sum())\n",
    "print(df.dst.isnull().sum())\n",
    "print(df.bx_gse.isnull().sum())\n",
    "print(df.by_gse.isnull().sum())\n",
    "print(df.bz_gse.isnull().sum())\n",
    "print(df.theta_gse.isnull().sum())\n",
    "print(df.phi_gse.isnull().sum())\n",
    "print(df.bx_gsm.isnull().sum())\n",
    "print(df.by_gsm.isnull().sum())\n",
    "print(df.bz_gsm.isnull().sum())\n",
    "print(df.theta_gsm.isnull().sum())\n",
    "print(df.phi_gsm.isnull().sum())\n",
    "print(df.bt.isnull().sum())\n",
    "print(df.density.isnull().sum())\n",
    "print(df.speed.isnull().sum())\n",
    "print(df.temperature.isnull().sum())\n",
    "print(df.source.isnull().sum())"
   ]
  },
  {
   "cell_type": "markdown",
   "metadata": {},
   "source": [
    "**INTERPOLATION METHOD**"
   ]
  },
  {
   "cell_type": "code",
   "execution_count": 8,
   "metadata": {
    "execution": {
     "iopub.execute_input": "2025-03-11T04:50:58.394382Z",
     "iopub.status.busy": "2025-03-11T04:50:58.394184Z",
     "iopub.status.idle": "2025-03-11T04:50:58.430075Z",
     "shell.execute_reply": "2025-03-11T04:50:58.429361Z",
     "shell.execute_reply.started": "2025-03-11T04:50:58.394366Z"
    }
   },
   "outputs": [
    {
     "data": {
      "text/plain": [
       "period             0\n",
       "timedelta          0\n",
       "dst                0\n",
       "bx_gse          5744\n",
       "by_gse          5744\n",
       "bz_gse          5744\n",
       "theta_gse       5744\n",
       "phi_gse         5753\n",
       "bx_gsm          5744\n",
       "by_gsm          5744\n",
       "bz_gsm          5744\n",
       "theta_gsm       5744\n",
       "phi_gsm         5753\n",
       "bt              5744\n",
       "density        11837\n",
       "speed          11926\n",
       "temperature    14007\n",
       "source          5463\n",
       "dtype: int64"
      ]
     },
     "execution_count": 8,
     "metadata": {},
     "output_type": "execute_result"
    }
   ],
   "source": [
    "df.isnull().sum()"
   ]
  },
  {
   "cell_type": "code",
   "execution_count": 9,
   "metadata": {
    "execution": {
     "iopub.execute_input": "2025-03-11T04:50:58.431809Z",
     "iopub.status.busy": "2025-03-11T04:50:58.431486Z",
     "iopub.status.idle": "2025-03-11T04:50:58.450067Z",
     "shell.execute_reply": "2025-03-11T04:50:58.449155Z",
     "shell.execute_reply.started": "2025-03-11T04:50:58.431784Z"
    }
   },
   "outputs": [
    {
     "name": "stderr",
     "output_type": "stream",
     "text": [
      "/usr/local/lib/python3.10/dist-packages/pandas/io/formats/format.py:1458: RuntimeWarning: invalid value encountered in greater\n",
      "  has_large_values = (abs_vals > 1e6).any()\n",
      "/usr/local/lib/python3.10/dist-packages/pandas/io/formats/format.py:1459: RuntimeWarning: invalid value encountered in less\n",
      "  has_small_values = ((abs_vals < 10 ** (-self.digits)) & (abs_vals > 0)).any()\n",
      "/usr/local/lib/python3.10/dist-packages/pandas/io/formats/format.py:1459: RuntimeWarning: invalid value encountered in greater\n",
      "  has_small_values = ((abs_vals < 10 ** (-self.digits)) & (abs_vals > 0)).any()\n"
     ]
    },
    {
     "data": {
      "text/html": [
       "<div>\n",
       "<style scoped>\n",
       "    .dataframe tbody tr th:only-of-type {\n",
       "        vertical-align: middle;\n",
       "    }\n",
       "\n",
       "    .dataframe tbody tr th {\n",
       "        vertical-align: top;\n",
       "    }\n",
       "\n",
       "    .dataframe thead th {\n",
       "        text-align: right;\n",
       "    }\n",
       "</style>\n",
       "<table border=\"1\" class=\"dataframe\">\n",
       "  <thead>\n",
       "    <tr style=\"text-align: right;\">\n",
       "      <th></th>\n",
       "      <th>period</th>\n",
       "      <th>timedelta</th>\n",
       "      <th>dst</th>\n",
       "      <th>bx_gse</th>\n",
       "      <th>by_gse</th>\n",
       "      <th>bz_gse</th>\n",
       "      <th>theta_gse</th>\n",
       "      <th>phi_gse</th>\n",
       "      <th>bx_gsm</th>\n",
       "      <th>by_gsm</th>\n",
       "      <th>bz_gsm</th>\n",
       "      <th>theta_gsm</th>\n",
       "      <th>phi_gsm</th>\n",
       "      <th>bt</th>\n",
       "      <th>density</th>\n",
       "      <th>speed</th>\n",
       "      <th>temperature</th>\n",
       "      <th>source</th>\n",
       "    </tr>\n",
       "  </thead>\n",
       "  <tbody>\n",
       "    <tr>\n",
       "      <th>0</th>\n",
       "      <td>train_a</td>\n",
       "      <td>0 days 00:00:00</td>\n",
       "      <td>-7</td>\n",
       "      <td>-5.55</td>\n",
       "      <td>3.00</td>\n",
       "      <td>1.25</td>\n",
       "      <td>11.09</td>\n",
       "      <td>153.37</td>\n",
       "      <td>-5.55</td>\n",
       "      <td>3.00</td>\n",
       "      <td>1.25</td>\n",
       "      <td>11.09</td>\n",
       "      <td>153.37</td>\n",
       "      <td>6.80</td>\n",
       "      <td>1.53</td>\n",
       "      <td>383.92</td>\n",
       "      <td>110237.0</td>\n",
       "      <td>ac</td>\n",
       "    </tr>\n",
       "    <tr>\n",
       "      <th>1</th>\n",
       "      <td>train_a</td>\n",
       "      <td>0 days 01:00:00</td>\n",
       "      <td>-10</td>\n",
       "      <td>-6.56</td>\n",
       "      <td>0.27</td>\n",
       "      <td>1.35</td>\n",
       "      <td>11.21</td>\n",
       "      <td>178.22</td>\n",
       "      <td>-6.56</td>\n",
       "      <td>0.27</td>\n",
       "      <td>1.35</td>\n",
       "      <td>11.21</td>\n",
       "      <td>178.22</td>\n",
       "      <td>7.01</td>\n",
       "      <td>0.36</td>\n",
       "      <td>317.16</td>\n",
       "      <td>NaN</td>\n",
       "      <td>ac</td>\n",
       "    </tr>\n",
       "    <tr>\n",
       "      <th>2</th>\n",
       "      <td>train_a</td>\n",
       "      <td>0 days 02:00:00</td>\n",
       "      <td>-10</td>\n",
       "      <td>-7.22</td>\n",
       "      <td>0.82</td>\n",
       "      <td>2.02</td>\n",
       "      <td>15.01</td>\n",
       "      <td>174.17</td>\n",
       "      <td>-7.22</td>\n",
       "      <td>0.82</td>\n",
       "      <td>2.02</td>\n",
       "      <td>15.01</td>\n",
       "      <td>174.17</td>\n",
       "      <td>7.84</td>\n",
       "      <td>1.27</td>\n",
       "      <td>336.55</td>\n",
       "      <td>44423.0</td>\n",
       "      <td>ac</td>\n",
       "    </tr>\n",
       "    <tr>\n",
       "      <th>3</th>\n",
       "      <td>train_a</td>\n",
       "      <td>0 days 03:00:00</td>\n",
       "      <td>-6</td>\n",
       "      <td>-6.83</td>\n",
       "      <td>1.33</td>\n",
       "      <td>3.32</td>\n",
       "      <td>24.42</td>\n",
       "      <td>170.00</td>\n",
       "      <td>-6.83</td>\n",
       "      <td>1.33</td>\n",
       "      <td>3.32</td>\n",
       "      <td>24.42</td>\n",
       "      <td>170.00</td>\n",
       "      <td>8.02</td>\n",
       "      <td>0.77</td>\n",
       "      <td>352.57</td>\n",
       "      <td>45112.0</td>\n",
       "      <td>ac</td>\n",
       "    </tr>\n",
       "    <tr>\n",
       "      <th>4</th>\n",
       "      <td>train_a</td>\n",
       "      <td>0 days 04:00:00</td>\n",
       "      <td>-2</td>\n",
       "      <td>NaN</td>\n",
       "      <td>NaN</td>\n",
       "      <td>NaN</td>\n",
       "      <td>NaN</td>\n",
       "      <td>NaN</td>\n",
       "      <td>NaN</td>\n",
       "      <td>NaN</td>\n",
       "      <td>NaN</td>\n",
       "      <td>NaN</td>\n",
       "      <td>NaN</td>\n",
       "      <td>NaN</td>\n",
       "      <td>NaN</td>\n",
       "      <td>NaN</td>\n",
       "      <td>NaN</td>\n",
       "      <td>NaN</td>\n",
       "    </tr>\n",
       "  </tbody>\n",
       "</table>\n",
       "</div>"
      ],
      "text/plain": [
       "    period        timedelta  dst  bx_gse  by_gse  bz_gse  theta_gse  phi_gse  \\\n",
       "0  train_a  0 days 00:00:00   -7   -5.55    3.00    1.25      11.09   153.37   \n",
       "1  train_a  0 days 01:00:00  -10   -6.56    0.27    1.35      11.21   178.22   \n",
       "2  train_a  0 days 02:00:00  -10   -7.22    0.82    2.02      15.01   174.17   \n",
       "3  train_a  0 days 03:00:00   -6   -6.83    1.33    3.32      24.42   170.00   \n",
       "4  train_a  0 days 04:00:00   -2     NaN     NaN     NaN        NaN      NaN   \n",
       "\n",
       "   bx_gsm  by_gsm  bz_gsm  theta_gsm  phi_gsm    bt  density   speed  \\\n",
       "0   -5.55    3.00    1.25      11.09   153.37  6.80     1.53  383.92   \n",
       "1   -6.56    0.27    1.35      11.21   178.22  7.01     0.36  317.16   \n",
       "2   -7.22    0.82    2.02      15.01   174.17  7.84     1.27  336.55   \n",
       "3   -6.83    1.33    3.32      24.42   170.00  8.02     0.77  352.57   \n",
       "4     NaN     NaN     NaN        NaN      NaN   NaN      NaN     NaN   \n",
       "\n",
       "   temperature source  \n",
       "0     110237.0     ac  \n",
       "1          NaN     ac  \n",
       "2      44423.0     ac  \n",
       "3      45112.0     ac  \n",
       "4          NaN    NaN  "
      ]
     },
     "execution_count": 9,
     "metadata": {},
     "output_type": "execute_result"
    }
   ],
   "source": [
    "df.head()"
   ]
  },
  {
   "cell_type": "code",
   "execution_count": 10,
   "metadata": {
    "execution": {
     "iopub.execute_input": "2025-03-11T04:50:58.451288Z",
     "iopub.status.busy": "2025-03-11T04:50:58.451012Z",
     "iopub.status.idle": "2025-03-11T04:50:58.475313Z",
     "shell.execute_reply": "2025-03-11T04:50:58.474501Z",
     "shell.execute_reply.started": "2025-03-11T04:50:58.451267Z"
    }
   },
   "outputs": [],
   "source": [
    "df = df.drop(['source','period'],axis =1)"
   ]
  },
  {
   "cell_type": "code",
   "execution_count": 11,
   "metadata": {
    "execution": {
     "iopub.execute_input": "2025-03-11T04:50:58.476241Z",
     "iopub.status.busy": "2025-03-11T04:50:58.476015Z",
     "iopub.status.idle": "2025-03-11T04:50:58.496230Z",
     "shell.execute_reply": "2025-03-11T04:50:58.495480Z",
     "shell.execute_reply.started": "2025-03-11T04:50:58.476216Z"
    }
   },
   "outputs": [
    {
     "name": "stderr",
     "output_type": "stream",
     "text": [
      "/usr/local/lib/python3.10/dist-packages/pandas/io/formats/format.py:1458: RuntimeWarning: invalid value encountered in greater\n",
      "  has_large_values = (abs_vals > 1e6).any()\n",
      "/usr/local/lib/python3.10/dist-packages/pandas/io/formats/format.py:1459: RuntimeWarning: invalid value encountered in less\n",
      "  has_small_values = ((abs_vals < 10 ** (-self.digits)) & (abs_vals > 0)).any()\n",
      "/usr/local/lib/python3.10/dist-packages/pandas/io/formats/format.py:1459: RuntimeWarning: invalid value encountered in greater\n",
      "  has_small_values = ((abs_vals < 10 ** (-self.digits)) & (abs_vals > 0)).any()\n"
     ]
    },
    {
     "data": {
      "text/html": [
       "<div>\n",
       "<style scoped>\n",
       "    .dataframe tbody tr th:only-of-type {\n",
       "        vertical-align: middle;\n",
       "    }\n",
       "\n",
       "    .dataframe tbody tr th {\n",
       "        vertical-align: top;\n",
       "    }\n",
       "\n",
       "    .dataframe thead th {\n",
       "        text-align: right;\n",
       "    }\n",
       "</style>\n",
       "<table border=\"1\" class=\"dataframe\">\n",
       "  <thead>\n",
       "    <tr style=\"text-align: right;\">\n",
       "      <th></th>\n",
       "      <th>timedelta</th>\n",
       "      <th>dst</th>\n",
       "      <th>bx_gse</th>\n",
       "      <th>by_gse</th>\n",
       "      <th>bz_gse</th>\n",
       "      <th>theta_gse</th>\n",
       "      <th>phi_gse</th>\n",
       "      <th>bx_gsm</th>\n",
       "      <th>by_gsm</th>\n",
       "      <th>bz_gsm</th>\n",
       "      <th>theta_gsm</th>\n",
       "      <th>phi_gsm</th>\n",
       "      <th>bt</th>\n",
       "      <th>density</th>\n",
       "      <th>speed</th>\n",
       "      <th>temperature</th>\n",
       "    </tr>\n",
       "  </thead>\n",
       "  <tbody>\n",
       "    <tr>\n",
       "      <th>0</th>\n",
       "      <td>0 days 00:00:00</td>\n",
       "      <td>-7</td>\n",
       "      <td>-5.55</td>\n",
       "      <td>3.00</td>\n",
       "      <td>1.25</td>\n",
       "      <td>11.09</td>\n",
       "      <td>153.37</td>\n",
       "      <td>-5.55</td>\n",
       "      <td>3.00</td>\n",
       "      <td>1.25</td>\n",
       "      <td>11.09</td>\n",
       "      <td>153.37</td>\n",
       "      <td>6.80</td>\n",
       "      <td>1.53</td>\n",
       "      <td>383.92</td>\n",
       "      <td>110237.0</td>\n",
       "    </tr>\n",
       "    <tr>\n",
       "      <th>1</th>\n",
       "      <td>0 days 01:00:00</td>\n",
       "      <td>-10</td>\n",
       "      <td>-6.56</td>\n",
       "      <td>0.27</td>\n",
       "      <td>1.35</td>\n",
       "      <td>11.21</td>\n",
       "      <td>178.22</td>\n",
       "      <td>-6.56</td>\n",
       "      <td>0.27</td>\n",
       "      <td>1.35</td>\n",
       "      <td>11.21</td>\n",
       "      <td>178.22</td>\n",
       "      <td>7.01</td>\n",
       "      <td>0.36</td>\n",
       "      <td>317.16</td>\n",
       "      <td>NaN</td>\n",
       "    </tr>\n",
       "    <tr>\n",
       "      <th>2</th>\n",
       "      <td>0 days 02:00:00</td>\n",
       "      <td>-10</td>\n",
       "      <td>-7.22</td>\n",
       "      <td>0.82</td>\n",
       "      <td>2.02</td>\n",
       "      <td>15.01</td>\n",
       "      <td>174.17</td>\n",
       "      <td>-7.22</td>\n",
       "      <td>0.82</td>\n",
       "      <td>2.02</td>\n",
       "      <td>15.01</td>\n",
       "      <td>174.17</td>\n",
       "      <td>7.84</td>\n",
       "      <td>1.27</td>\n",
       "      <td>336.55</td>\n",
       "      <td>44423.0</td>\n",
       "    </tr>\n",
       "    <tr>\n",
       "      <th>3</th>\n",
       "      <td>0 days 03:00:00</td>\n",
       "      <td>-6</td>\n",
       "      <td>-6.83</td>\n",
       "      <td>1.33</td>\n",
       "      <td>3.32</td>\n",
       "      <td>24.42</td>\n",
       "      <td>170.00</td>\n",
       "      <td>-6.83</td>\n",
       "      <td>1.33</td>\n",
       "      <td>3.32</td>\n",
       "      <td>24.42</td>\n",
       "      <td>170.00</td>\n",
       "      <td>8.02</td>\n",
       "      <td>0.77</td>\n",
       "      <td>352.57</td>\n",
       "      <td>45112.0</td>\n",
       "    </tr>\n",
       "    <tr>\n",
       "      <th>4</th>\n",
       "      <td>0 days 04:00:00</td>\n",
       "      <td>-2</td>\n",
       "      <td>NaN</td>\n",
       "      <td>NaN</td>\n",
       "      <td>NaN</td>\n",
       "      <td>NaN</td>\n",
       "      <td>NaN</td>\n",
       "      <td>NaN</td>\n",
       "      <td>NaN</td>\n",
       "      <td>NaN</td>\n",
       "      <td>NaN</td>\n",
       "      <td>NaN</td>\n",
       "      <td>NaN</td>\n",
       "      <td>NaN</td>\n",
       "      <td>NaN</td>\n",
       "      <td>NaN</td>\n",
       "    </tr>\n",
       "  </tbody>\n",
       "</table>\n",
       "</div>"
      ],
      "text/plain": [
       "         timedelta  dst  bx_gse  by_gse  bz_gse  theta_gse  phi_gse  bx_gsm  \\\n",
       "0  0 days 00:00:00   -7   -5.55    3.00    1.25      11.09   153.37   -5.55   \n",
       "1  0 days 01:00:00  -10   -6.56    0.27    1.35      11.21   178.22   -6.56   \n",
       "2  0 days 02:00:00  -10   -7.22    0.82    2.02      15.01   174.17   -7.22   \n",
       "3  0 days 03:00:00   -6   -6.83    1.33    3.32      24.42   170.00   -6.83   \n",
       "4  0 days 04:00:00   -2     NaN     NaN     NaN        NaN      NaN     NaN   \n",
       "\n",
       "   by_gsm  bz_gsm  theta_gsm  phi_gsm    bt  density   speed  temperature  \n",
       "0    3.00    1.25      11.09   153.37  6.80     1.53  383.92     110237.0  \n",
       "1    0.27    1.35      11.21   178.22  7.01     0.36  317.16          NaN  \n",
       "2    0.82    2.02      15.01   174.17  7.84     1.27  336.55      44423.0  \n",
       "3    1.33    3.32      24.42   170.00  8.02     0.77  352.57      45112.0  \n",
       "4     NaN     NaN        NaN      NaN   NaN      NaN     NaN          NaN  "
      ]
     },
     "execution_count": 11,
     "metadata": {},
     "output_type": "execute_result"
    }
   ],
   "source": [
    "df.head()"
   ]
  },
  {
   "cell_type": "code",
   "execution_count": 15,
   "metadata": {
    "execution": {
     "iopub.execute_input": "2025-03-11T04:50:58.552993Z",
     "iopub.status.busy": "2025-03-11T04:50:58.552734Z",
     "iopub.status.idle": "2025-03-11T04:50:58.575997Z",
     "shell.execute_reply": "2025-03-11T04:50:58.575280Z",
     "shell.execute_reply.started": "2025-03-11T04:50:58.552973Z"
    }
   },
   "outputs": [
    {
     "name": "stderr",
     "output_type": "stream",
     "text": [
      "/usr/local/lib/python3.10/dist-packages/pandas/io/formats/format.py:1458: RuntimeWarning: invalid value encountered in greater\n",
      "  has_large_values = (abs_vals > 1e6).any()\n",
      "/usr/local/lib/python3.10/dist-packages/pandas/io/formats/format.py:1459: RuntimeWarning: invalid value encountered in less\n",
      "  has_small_values = ((abs_vals < 10 ** (-self.digits)) & (abs_vals > 0)).any()\n",
      "/usr/local/lib/python3.10/dist-packages/pandas/io/formats/format.py:1459: RuntimeWarning: invalid value encountered in greater\n",
      "  has_small_values = ((abs_vals < 10 ** (-self.digits)) & (abs_vals > 0)).any()\n"
     ]
    },
    {
     "data": {
      "text/html": [
       "<div>\n",
       "<style scoped>\n",
       "    .dataframe tbody tr th:only-of-type {\n",
       "        vertical-align: middle;\n",
       "    }\n",
       "\n",
       "    .dataframe tbody tr th {\n",
       "        vertical-align: top;\n",
       "    }\n",
       "\n",
       "    .dataframe thead th {\n",
       "        text-align: right;\n",
       "    }\n",
       "</style>\n",
       "<table border=\"1\" class=\"dataframe\">\n",
       "  <thead>\n",
       "    <tr style=\"text-align: right;\">\n",
       "      <th></th>\n",
       "      <th>dst</th>\n",
       "      <th>bx_gse</th>\n",
       "      <th>by_gse</th>\n",
       "      <th>bz_gse</th>\n",
       "      <th>theta_gse</th>\n",
       "      <th>phi_gse</th>\n",
       "      <th>bx_gsm</th>\n",
       "      <th>by_gsm</th>\n",
       "      <th>bz_gsm</th>\n",
       "      <th>theta_gsm</th>\n",
       "      <th>phi_gsm</th>\n",
       "      <th>bt</th>\n",
       "      <th>density</th>\n",
       "      <th>speed</th>\n",
       "      <th>temperature</th>\n",
       "    </tr>\n",
       "  </thead>\n",
       "  <tbody>\n",
       "    <tr>\n",
       "      <th>0</th>\n",
       "      <td>-7</td>\n",
       "      <td>-5.55</td>\n",
       "      <td>3.00</td>\n",
       "      <td>1.25</td>\n",
       "      <td>11.09</td>\n",
       "      <td>153.37</td>\n",
       "      <td>-5.55</td>\n",
       "      <td>3.00</td>\n",
       "      <td>1.25</td>\n",
       "      <td>11.09</td>\n",
       "      <td>153.37</td>\n",
       "      <td>6.80</td>\n",
       "      <td>1.53</td>\n",
       "      <td>383.92</td>\n",
       "      <td>110237.0</td>\n",
       "    </tr>\n",
       "    <tr>\n",
       "      <th>1</th>\n",
       "      <td>-10</td>\n",
       "      <td>-6.56</td>\n",
       "      <td>0.27</td>\n",
       "      <td>1.35</td>\n",
       "      <td>11.21</td>\n",
       "      <td>178.22</td>\n",
       "      <td>-6.56</td>\n",
       "      <td>0.27</td>\n",
       "      <td>1.35</td>\n",
       "      <td>11.21</td>\n",
       "      <td>178.22</td>\n",
       "      <td>7.01</td>\n",
       "      <td>0.36</td>\n",
       "      <td>317.16</td>\n",
       "      <td>NaN</td>\n",
       "    </tr>\n",
       "    <tr>\n",
       "      <th>2</th>\n",
       "      <td>-10</td>\n",
       "      <td>-7.22</td>\n",
       "      <td>0.82</td>\n",
       "      <td>2.02</td>\n",
       "      <td>15.01</td>\n",
       "      <td>174.17</td>\n",
       "      <td>-7.22</td>\n",
       "      <td>0.82</td>\n",
       "      <td>2.02</td>\n",
       "      <td>15.01</td>\n",
       "      <td>174.17</td>\n",
       "      <td>7.84</td>\n",
       "      <td>1.27</td>\n",
       "      <td>336.55</td>\n",
       "      <td>44423.0</td>\n",
       "    </tr>\n",
       "    <tr>\n",
       "      <th>3</th>\n",
       "      <td>-6</td>\n",
       "      <td>-6.83</td>\n",
       "      <td>1.33</td>\n",
       "      <td>3.32</td>\n",
       "      <td>24.42</td>\n",
       "      <td>170.00</td>\n",
       "      <td>-6.83</td>\n",
       "      <td>1.33</td>\n",
       "      <td>3.32</td>\n",
       "      <td>24.42</td>\n",
       "      <td>170.00</td>\n",
       "      <td>8.02</td>\n",
       "      <td>0.77</td>\n",
       "      <td>352.57</td>\n",
       "      <td>45112.0</td>\n",
       "    </tr>\n",
       "    <tr>\n",
       "      <th>4</th>\n",
       "      <td>-2</td>\n",
       "      <td>NaN</td>\n",
       "      <td>NaN</td>\n",
       "      <td>NaN</td>\n",
       "      <td>NaN</td>\n",
       "      <td>NaN</td>\n",
       "      <td>NaN</td>\n",
       "      <td>NaN</td>\n",
       "      <td>NaN</td>\n",
       "      <td>NaN</td>\n",
       "      <td>NaN</td>\n",
       "      <td>NaN</td>\n",
       "      <td>NaN</td>\n",
       "      <td>NaN</td>\n",
       "      <td>NaN</td>\n",
       "    </tr>\n",
       "  </tbody>\n",
       "</table>\n",
       "</div>"
      ],
      "text/plain": [
       "   dst  bx_gse  by_gse  bz_gse  theta_gse  phi_gse  bx_gsm  by_gsm  bz_gsm  \\\n",
       "0   -7   -5.55    3.00    1.25      11.09   153.37   -5.55    3.00    1.25   \n",
       "1  -10   -6.56    0.27    1.35      11.21   178.22   -6.56    0.27    1.35   \n",
       "2  -10   -7.22    0.82    2.02      15.01   174.17   -7.22    0.82    2.02   \n",
       "3   -6   -6.83    1.33    3.32      24.42   170.00   -6.83    1.33    3.32   \n",
       "4   -2     NaN     NaN     NaN        NaN      NaN     NaN     NaN     NaN   \n",
       "\n",
       "   theta_gsm  phi_gsm    bt  density   speed  temperature  \n",
       "0      11.09   153.37  6.80     1.53  383.92     110237.0  \n",
       "1      11.21   178.22  7.01     0.36  317.16          NaN  \n",
       "2      15.01   174.17  7.84     1.27  336.55      44423.0  \n",
       "3      24.42   170.00  8.02     0.77  352.57      45112.0  \n",
       "4        NaN      NaN   NaN      NaN     NaN          NaN  "
      ]
     },
     "execution_count": 15,
     "metadata": {},
     "output_type": "execute_result"
    }
   ],
   "source": [
    "df = df.drop('timedelta',axis=1)\n",
    "df.head()"
   ]
  },
  {
   "cell_type": "code",
   "execution_count": 16,
   "metadata": {
    "execution": {
     "iopub.execute_input": "2025-03-11T04:50:58.576915Z",
     "iopub.status.busy": "2025-03-11T04:50:58.576659Z",
     "iopub.status.idle": "2025-03-11T04:50:58.693930Z",
     "shell.execute_reply": "2025-03-11T04:50:58.693031Z",
     "shell.execute_reply.started": "2025-03-11T04:50:58.576890Z"
    }
   },
   "outputs": [],
   "source": [
    "df = df.interpolate(method='linear')"
   ]
  },
  {
   "cell_type": "code",
   "execution_count": 17,
   "metadata": {
    "execution": {
     "iopub.execute_input": "2025-03-11T04:50:58.695293Z",
     "iopub.status.busy": "2025-03-11T04:50:58.694955Z",
     "iopub.status.idle": "2025-03-11T04:50:58.714545Z",
     "shell.execute_reply": "2025-03-11T04:50:58.713695Z",
     "shell.execute_reply.started": "2025-03-11T04:50:58.695264Z"
    }
   },
   "outputs": [
    {
     "data": {
      "text/plain": [
       "dst            0\n",
       "bx_gse         0\n",
       "by_gse         0\n",
       "bz_gse         0\n",
       "theta_gse      0\n",
       "phi_gse        0\n",
       "bx_gsm         0\n",
       "by_gsm         0\n",
       "bz_gsm         0\n",
       "theta_gsm      0\n",
       "phi_gsm        0\n",
       "bt             0\n",
       "density        0\n",
       "speed          0\n",
       "temperature    0\n",
       "dtype: int64"
      ]
     },
     "execution_count": 17,
     "metadata": {},
     "output_type": "execute_result"
    }
   ],
   "source": [
    "df.isnull().sum()"
   ]
  },
  {
   "cell_type": "markdown",
   "metadata": {},
   "source": [
    "# SPLITING DATASET TO DEPENDENT AND INDEPENDENT VARIABLES"
   ]
  },
  {
   "cell_type": "code",
   "execution_count": 23,
   "metadata": {
    "execution": {
     "iopub.execute_input": "2025-03-11T04:51:17.221791Z",
     "iopub.status.busy": "2025-03-11T04:51:17.221534Z",
     "iopub.status.idle": "2025-03-11T04:51:17.230798Z",
     "shell.execute_reply": "2025-03-11T04:51:17.230086Z",
     "shell.execute_reply.started": "2025-03-11T04:51:17.221768Z"
    }
   },
   "outputs": [],
   "source": [
    "# Load and preprocess data\n",
    "X = df.drop(['dst'], axis=1)\n",
    "y = df['dst']"
   ]
  },
  {
   "cell_type": "code",
   "execution_count": 24,
   "metadata": {
    "execution": {
     "iopub.execute_input": "2025-03-11T04:51:17.232457Z",
     "iopub.status.busy": "2025-03-11T04:51:17.232162Z",
     "iopub.status.idle": "2025-03-11T04:51:17.256177Z",
     "shell.execute_reply": "2025-03-11T04:51:17.255529Z",
     "shell.execute_reply.started": "2025-03-11T04:51:17.232428Z"
    }
   },
   "outputs": [
    {
     "data": {
      "text/html": [
       "<div>\n",
       "<style scoped>\n",
       "    .dataframe tbody tr th:only-of-type {\n",
       "        vertical-align: middle;\n",
       "    }\n",
       "\n",
       "    .dataframe tbody tr th {\n",
       "        vertical-align: top;\n",
       "    }\n",
       "\n",
       "    .dataframe thead th {\n",
       "        text-align: right;\n",
       "    }\n",
       "</style>\n",
       "<table border=\"1\" class=\"dataframe\">\n",
       "  <thead>\n",
       "    <tr style=\"text-align: right;\">\n",
       "      <th></th>\n",
       "      <th>bx_gse</th>\n",
       "      <th>by_gse</th>\n",
       "      <th>bz_gse</th>\n",
       "      <th>theta_gse</th>\n",
       "      <th>phi_gse</th>\n",
       "      <th>bx_gsm</th>\n",
       "      <th>by_gsm</th>\n",
       "      <th>bz_gsm</th>\n",
       "      <th>theta_gsm</th>\n",
       "      <th>phi_gsm</th>\n",
       "      <th>bt</th>\n",
       "      <th>density</th>\n",
       "      <th>speed</th>\n",
       "      <th>temperature</th>\n",
       "    </tr>\n",
       "  </thead>\n",
       "  <tbody>\n",
       "    <tr>\n",
       "      <th>0</th>\n",
       "      <td>-5.550</td>\n",
       "      <td>3.000</td>\n",
       "      <td>1.250</td>\n",
       "      <td>11.09</td>\n",
       "      <td>153.370</td>\n",
       "      <td>-5.550</td>\n",
       "      <td>3.000</td>\n",
       "      <td>1.250</td>\n",
       "      <td>11.09</td>\n",
       "      <td>153.370</td>\n",
       "      <td>6.800</td>\n",
       "      <td>1.53</td>\n",
       "      <td>383.92</td>\n",
       "      <td>110237.0</td>\n",
       "    </tr>\n",
       "    <tr>\n",
       "      <th>1</th>\n",
       "      <td>-6.560</td>\n",
       "      <td>0.270</td>\n",
       "      <td>1.350</td>\n",
       "      <td>11.21</td>\n",
       "      <td>178.220</td>\n",
       "      <td>-6.560</td>\n",
       "      <td>0.270</td>\n",
       "      <td>1.350</td>\n",
       "      <td>11.21</td>\n",
       "      <td>178.220</td>\n",
       "      <td>7.010</td>\n",
       "      <td>0.36</td>\n",
       "      <td>317.16</td>\n",
       "      <td>77330.0</td>\n",
       "    </tr>\n",
       "    <tr>\n",
       "      <th>2</th>\n",
       "      <td>-7.220</td>\n",
       "      <td>0.820</td>\n",
       "      <td>2.020</td>\n",
       "      <td>15.01</td>\n",
       "      <td>174.170</td>\n",
       "      <td>-7.220</td>\n",
       "      <td>0.820</td>\n",
       "      <td>2.020</td>\n",
       "      <td>15.01</td>\n",
       "      <td>174.170</td>\n",
       "      <td>7.840</td>\n",
       "      <td>1.27</td>\n",
       "      <td>336.55</td>\n",
       "      <td>44423.0</td>\n",
       "    </tr>\n",
       "    <tr>\n",
       "      <th>3</th>\n",
       "      <td>-6.830</td>\n",
       "      <td>1.330</td>\n",
       "      <td>3.320</td>\n",
       "      <td>24.42</td>\n",
       "      <td>170.000</td>\n",
       "      <td>-6.830</td>\n",
       "      <td>1.330</td>\n",
       "      <td>3.320</td>\n",
       "      <td>24.42</td>\n",
       "      <td>170.000</td>\n",
       "      <td>8.020</td>\n",
       "      <td>0.77</td>\n",
       "      <td>352.57</td>\n",
       "      <td>45112.0</td>\n",
       "    </tr>\n",
       "    <tr>\n",
       "      <th>4</th>\n",
       "      <td>-6.325</td>\n",
       "      <td>0.385</td>\n",
       "      <td>2.495</td>\n",
       "      <td>19.66</td>\n",
       "      <td>177.835</td>\n",
       "      <td>-6.325</td>\n",
       "      <td>0.385</td>\n",
       "      <td>2.495</td>\n",
       "      <td>19.66</td>\n",
       "      <td>177.835</td>\n",
       "      <td>7.225</td>\n",
       "      <td>2.72</td>\n",
       "      <td>363.82</td>\n",
       "      <td>77218.0</td>\n",
       "    </tr>\n",
       "  </tbody>\n",
       "</table>\n",
       "</div>"
      ],
      "text/plain": [
       "   bx_gse  by_gse  bz_gse  theta_gse  phi_gse  bx_gsm  by_gsm  bz_gsm  \\\n",
       "0  -5.550   3.000   1.250      11.09  153.370  -5.550   3.000   1.250   \n",
       "1  -6.560   0.270   1.350      11.21  178.220  -6.560   0.270   1.350   \n",
       "2  -7.220   0.820   2.020      15.01  174.170  -7.220   0.820   2.020   \n",
       "3  -6.830   1.330   3.320      24.42  170.000  -6.830   1.330   3.320   \n",
       "4  -6.325   0.385   2.495      19.66  177.835  -6.325   0.385   2.495   \n",
       "\n",
       "   theta_gsm  phi_gsm     bt  density   speed  temperature  \n",
       "0      11.09  153.370  6.800     1.53  383.92     110237.0  \n",
       "1      11.21  178.220  7.010     0.36  317.16      77330.0  \n",
       "2      15.01  174.170  7.840     1.27  336.55      44423.0  \n",
       "3      24.42  170.000  8.020     0.77  352.57      45112.0  \n",
       "4      19.66  177.835  7.225     2.72  363.82      77218.0  "
      ]
     },
     "execution_count": 24,
     "metadata": {},
     "output_type": "execute_result"
    }
   ],
   "source": [
    "X.head()"
   ]
  },
  {
   "cell_type": "code",
   "execution_count": 25,
   "metadata": {
    "execution": {
     "iopub.execute_input": "2025-03-11T04:51:17.257304Z",
     "iopub.status.busy": "2025-03-11T04:51:17.257042Z",
     "iopub.status.idle": "2025-03-11T04:51:17.272419Z",
     "shell.execute_reply": "2025-03-11T04:51:17.271527Z",
     "shell.execute_reply.started": "2025-03-11T04:51:17.257283Z"
    }
   },
   "outputs": [
    {
     "data": {
      "text/plain": [
       "0    -7\n",
       "1   -10\n",
       "2   -10\n",
       "3    -6\n",
       "4    -2\n",
       "Name: dst, dtype: int64"
      ]
     },
     "execution_count": 25,
     "metadata": {},
     "output_type": "execute_result"
    }
   ],
   "source": [
    "y.head()"
   ]
  },
  {
   "cell_type": "markdown",
   "metadata": {},
   "source": [
    "# FEATURE SCALING"
   ]
  },
  {
   "cell_type": "code",
   "execution_count": 26,
   "metadata": {
    "execution": {
     "iopub.execute_input": "2025-03-11T04:51:17.273726Z",
     "iopub.status.busy": "2025-03-11T04:51:17.273380Z",
     "iopub.status.idle": "2025-03-11T04:51:17.374331Z",
     "shell.execute_reply": "2025-03-11T04:51:17.373387Z",
     "shell.execute_reply.started": "2025-03-11T04:51:17.273644Z"
    }
   },
   "outputs": [],
   "source": [
    "from sklearn.model_selection import train_test_split\n",
    "from sklearn.preprocessing import StandardScaler\n",
    "\n",
    "# Split the data\n",
    "X_train, X_test, y_train, y_test = train_test_split(X, y, test_size=0.2, random_state=42)\n",
    "\n",
    "# Scale X (features)\n",
    "scaler_X = StandardScaler()\n",
    "X_train = scaler_X.fit_transform(X_train)\n",
    "X_test = scaler_X.transform(X_test)\n",
    "\n",
    "# Scale y (target) - after converting to array\n",
    "scaler_y = StandardScaler()\n",
    "\n",
    "y_train = y_train.values.reshape(-1, 1)  # Fix for Series\n",
    "y_test = y_test.values.reshape(-1, 1)    # Fix for Series\n",
    "\n",
    "y_train = scaler_y.fit_transform(y_train).ravel()  # ravel() flattens back to 1D after scaling\n",
    "y_test = scaler_y.transform(y_test).ravel()        # same for test set\n"
   ]
  },
  {
   "cell_type": "code",
   "execution_count": 27,
   "metadata": {
    "execution": {
     "iopub.execute_input": "2025-03-11T04:51:17.375461Z",
     "iopub.status.busy": "2025-03-11T04:51:17.375147Z",
     "iopub.status.idle": "2025-03-11T04:51:17.380782Z",
     "shell.execute_reply": "2025-03-11T04:51:17.379861Z",
     "shell.execute_reply.started": "2025-03-11T04:51:17.375422Z"
    }
   },
   "outputs": [
    {
     "data": {
      "text/plain": [
       "array([[-1.13704253,  1.36646731, -0.40932807, ..., -0.4702661 ,\n",
       "        -0.07395641, -0.26320501],\n",
       "       [-0.59324774, -1.44556285,  1.31469616, ...,  0.82131136,\n",
       "        -0.05268277, -0.00374363],\n",
       "       [ 1.71036537, -1.26666129,  0.54547007, ...,  0.58090825,\n",
       "        -0.43450965, -0.22881847],\n",
       "       ...,\n",
       "       [ 1.50268495,  0.45684107,  0.16534667, ...,  0.02703836,\n",
       "        -0.81973233, -0.11934309],\n",
       "       [ 0.75394237, -0.24364673,  0.76995239, ..., -0.22043543,\n",
       "         0.26332567, -0.2899677 ],\n",
       "       [-0.14509525, -0.86854232,  0.40778758, ..., -0.72598901,\n",
       "        -0.99980919, -0.64321095]])"
      ]
     },
     "execution_count": 27,
     "metadata": {},
     "output_type": "execute_result"
    }
   ],
   "source": [
    "X_train"
   ]
  },
  {
   "cell_type": "code",
   "execution_count": 28,
   "metadata": {
    "execution": {
     "iopub.execute_input": "2025-03-11T04:51:17.381826Z",
     "iopub.status.busy": "2025-03-11T04:51:17.381597Z",
     "iopub.status.idle": "2025-03-11T04:51:17.398430Z",
     "shell.execute_reply": "2025-03-11T04:51:17.397709Z",
     "shell.execute_reply.started": "2025-03-11T04:51:17.381807Z"
    }
   },
   "outputs": [
    {
     "data": {
      "text/plain": [
       "array([[-0.18335217,  1.61088212,  0.74600761, ..., -0.33828009,\n",
       "        -0.5768333 , -0.51780045],\n",
       "       [-2.64545823,  0.85747977,  0.69811805, ...,  1.13242126,\n",
       "        -0.23935147,  0.99849886],\n",
       "       [ 0.23200868, -0.75263427, -0.03818396, ..., -0.45376785,\n",
       "        -1.24920018, -0.80015843],\n",
       "       ...,\n",
       "       [ 0.59818206,  1.01118393,  0.02766418, ...,  0.10481583,\n",
       "        -0.21128624, -0.60580402],\n",
       "       [-0.95668848,  1.91325095, -0.64578278, ...,  0.52198592,\n",
       "        -0.14486854,  0.08116873],\n",
       "       [-0.83098717,  0.0839195 ,  0.40479448, ...,  0.93915602,\n",
       "         0.40245328,  1.41935289]])"
      ]
     },
     "execution_count": 28,
     "metadata": {},
     "output_type": "execute_result"
    }
   ],
   "source": [
    "X_test"
   ]
  },
  {
   "cell_type": "code",
   "execution_count": 29,
   "metadata": {
    "execution": {
     "iopub.execute_input": "2025-03-11T04:51:17.399407Z",
     "iopub.status.busy": "2025-03-11T04:51:17.399178Z",
     "iopub.status.idle": "2025-03-11T04:51:17.415256Z",
     "shell.execute_reply": "2025-03-11T04:51:17.414566Z",
     "shell.execute_reply.started": "2025-03-11T04:51:17.399387Z"
    }
   },
   "outputs": [
    {
     "data": {
      "text/plain": [
       "array([ 0.42293858,  0.47529102,  0.26588126, ..., -0.04823338,\n",
       "        0.0564715 ,  0.68470078])"
      ]
     },
     "execution_count": 29,
     "metadata": {},
     "output_type": "execute_result"
    }
   ],
   "source": [
    "y_train"
   ]
  },
  {
   "cell_type": "code",
   "execution_count": 30,
   "metadata": {
    "execution": {
     "iopub.execute_input": "2025-03-11T04:51:17.416139Z",
     "iopub.status.busy": "2025-03-11T04:51:17.415950Z",
     "iopub.status.idle": "2025-03-11T04:51:17.430491Z",
     "shell.execute_reply": "2025-03-11T04:51:17.429851Z",
     "shell.execute_reply.started": "2025-03-11T04:51:17.416123Z"
    }
   },
   "outputs": [
    {
     "data": {
      "text/plain": [
       "array([0.99881542, 0.78940566, 0.73705322, ..., 0.52764346, 0.73705322,\n",
       "       0.26588126])"
      ]
     },
     "execution_count": 30,
     "metadata": {},
     "output_type": "execute_result"
    }
   ],
   "source": [
    "y_test"
   ]
  },
  {
   "cell_type": "code",
   "execution_count": 31,
   "metadata": {
    "execution": {
     "iopub.execute_input": "2025-03-11T04:51:17.431651Z",
     "iopub.status.busy": "2025-03-11T04:51:17.431347Z",
     "iopub.status.idle": "2025-03-11T04:51:17.445084Z",
     "shell.execute_reply": "2025-03-11T04:51:17.444510Z",
     "shell.execute_reply.started": "2025-03-11T04:51:17.431625Z"
    }
   },
   "outputs": [],
   "source": [
    "# Reshape input for BiLSTM (samples, timesteps, features)\n",
    "X_train = X_train.reshape(X_train.shape[0], X_train.shape[1], 1)\n",
    "X_test = X_test.reshape(X_test.shape[0], X_test.shape[1], 1)"
   ]
  },
  {
   "cell_type": "code",
   "execution_count": 32,
   "metadata": {
    "execution": {
     "iopub.execute_input": "2025-03-11T04:51:17.446049Z",
     "iopub.status.busy": "2025-03-11T04:51:17.445787Z",
     "iopub.status.idle": "2025-03-11T04:51:17.462461Z",
     "shell.execute_reply": "2025-03-11T04:51:17.461896Z",
     "shell.execute_reply.started": "2025-03-11T04:51:17.446024Z"
    }
   },
   "outputs": [
    {
     "data": {
      "text/plain": [
       "array([[[-1.13704253],\n",
       "        [ 1.36646731],\n",
       "        [-0.40932807],\n",
       "        ...,\n",
       "        [-0.4702661 ],\n",
       "        [-0.07395641],\n",
       "        [-0.26320501]],\n",
       "\n",
       "       [[-0.59324774],\n",
       "        [-1.44556285],\n",
       "        [ 1.31469616],\n",
       "        ...,\n",
       "        [ 0.82131136],\n",
       "        [-0.05268277],\n",
       "        [-0.00374363]],\n",
       "\n",
       "       [[ 1.71036537],\n",
       "        [-1.26666129],\n",
       "        [ 0.54547007],\n",
       "        ...,\n",
       "        [ 0.58090825],\n",
       "        [-0.43450965],\n",
       "        [-0.22881847]],\n",
       "\n",
       "       ...,\n",
       "\n",
       "       [[ 1.50268495],\n",
       "        [ 0.45684107],\n",
       "        [ 0.16534667],\n",
       "        ...,\n",
       "        [ 0.02703836],\n",
       "        [-0.81973233],\n",
       "        [-0.11934309]],\n",
       "\n",
       "       [[ 0.75394237],\n",
       "        [-0.24364673],\n",
       "        [ 0.76995239],\n",
       "        ...,\n",
       "        [-0.22043543],\n",
       "        [ 0.26332567],\n",
       "        [-0.2899677 ]],\n",
       "\n",
       "       [[-0.14509525],\n",
       "        [-0.86854232],\n",
       "        [ 0.40778758],\n",
       "        ...,\n",
       "        [-0.72598901],\n",
       "        [-0.99980919],\n",
       "        [-0.64321095]]])"
      ]
     },
     "execution_count": 32,
     "metadata": {},
     "output_type": "execute_result"
    }
   ],
   "source": [
    "X_train"
   ]
  },
  {
   "cell_type": "markdown",
   "metadata": {},
   "source": [
    "# ARCHITECTURE"
   ]
  },
  {
   "cell_type": "code",
   "execution_count": 33,
   "metadata": {
    "execution": {
     "iopub.execute_input": "2025-03-11T04:51:17.463367Z",
     "iopub.status.busy": "2025-03-11T04:51:17.463158Z",
     "iopub.status.idle": "2025-03-11T04:51:17.475102Z",
     "shell.execute_reply": "2025-03-11T04:51:17.474368Z",
     "shell.execute_reply.started": "2025-03-11T04:51:17.463349Z"
    }
   },
   "outputs": [
    {
     "name": "stdout",
     "output_type": "stream",
     "text": [
      "Original shape: (111897, 14, 1)\n",
      "Fixed shape: (111897, 14, 1)\n"
     ]
    }
   ],
   "source": [
    "import tensorflow as tf\n",
    "from tensorflow import keras\n",
    "from tensorflow.keras import layers\n",
    "import numpy as np\n",
    "\n",
    "# Quadratic Neuron Layer\n",
    "class QuadraticNeuronLayer(layers.Layer):\n",
    "    def __init__(self, units):\n",
    "        super(QuadraticNeuronLayer, self).__init__()\n",
    "        self.units = units\n",
    "\n",
    "    def build(self, input_shape):\n",
    "        self.linear_weight = self.add_weight(\n",
    "            shape=(input_shape[-1], self.units), initializer=\"random_normal\", trainable=True\n",
    "        )\n",
    "        self.quadratic_weight = self.add_weight(\n",
    "            shape=(input_shape[-1], self.units), initializer=\"random_normal\", trainable=True\n",
    "        )\n",
    "        self.bias = self.add_weight(shape=(self.units,), initializer=\"zeros\", trainable=True)\n",
    "\n",
    "    def call(self, inputs):\n",
    "        linear_out = tf.matmul(inputs, self.linear_weight)\n",
    "        quadratic_out = tf.matmul(tf.square(inputs), self.quadratic_weight)\n",
    "        return linear_out + quadratic_out + self.bias\n",
    "\n",
    "# LSTM Model\n",
    "def build_lstm_model(input_dim, output_dim):\n",
    "    inputs = keras.Input(shape=(input_dim, 1))  # (time_steps, features)\n",
    "\n",
    "    x = layers.LSTM(256, return_sequences=True)(inputs)\n",
    "    x = QuadraticNeuronLayer(10)(x)\n",
    "\n",
    "    x = layers.LSTM(128, return_sequences=True)(x)\n",
    "    x = QuadraticNeuronLayer(10)(x)\n",
    "\n",
    "    x = layers.LSTM(64, return_sequences=True)(x)\n",
    "    x = QuadraticNeuronLayer(10)(x)\n",
    "\n",
    "    x = layers.LSTM(32, return_sequences=True)(x)\n",
    "    x = QuadraticNeuronLayer(10)(x)\n",
    "\n",
    "    x = layers.LSTM(16)(x)  # No return_sequences for last LSTM\n",
    "    x = QuadraticNeuronLayer(10)(x)\n",
    "\n",
    "    outputs = layers.Dense(output_dim)(x)\n",
    "\n",
    "    model = keras.Model(inputs, outputs)\n",
    "    return model\n",
    "\n",
    "\n",
    "# ✅ Fix: Ensure training data is 3D (samples, time_steps, features)\n",
    "print(\"Original shape:\", X_train.shape)  # Debugging line\n",
    "\n",
    "# Only reshape if needed\n",
    "if X_train.ndim == 2:\n",
    "    X_train = np.expand_dims(X_train, axis=-1)  # Convert (samples, time_steps) → (samples, time_steps, 1)\n",
    "elif X_train.ndim == 4 or X_train.ndim == 5:\n",
    "    X_train = np.squeeze(X_train)  # Remove extra dimensions if present\n",
    "\n",
    "if X_test.ndim == 2:\n",
    "    X_test = np.expand_dims(X_test, axis=-1)\n",
    "elif X_test.ndim == 4 or X_test.ndim == 5:\n",
    "    X_test = np.squeeze(X_test)\n",
    "\n",
    "print(\"Fixed shape:\", X_train.shape)  # Debugging line\n"
   ]
  },
  {
   "cell_type": "code",
   "execution_count": null,
   "metadata": {
    "execution": {
     "iopub.execute_input": "2025-03-11T04:51:17.476023Z",
     "iopub.status.busy": "2025-03-11T04:51:17.475843Z"
    }
   },
   "outputs": [
    {
     "name": "stdout",
     "output_type": "stream",
     "text": [
      "Epoch 1/25\n",
      "\u001b[1m 434/3497\u001b[0m \u001b[32m━━\u001b[0m\u001b[37m━━━━━━━━━━━━━━━━━━\u001b[0m \u001b[1m1:05\u001b[0m 21ms/step - loss: 0.9517 - mae: 0.6276 - mape: 269.8742 - mse: 0.9517"
     ]
    }
   ],
   "source": [
    "# Define input/output dimensions\n",
    "input_dim = X_train.shape[1]  # Number of time steps\n",
    "output_dim = 1\n",
    "\n",
    "# Build and compile the model\n",
    "model = build_bilstm_model(input_dim, output_dim)\n",
    "model.compile(optimizer='adam', loss='mse', metrics=['mae', 'mse', 'mape'])\n",
    "\n",
    "# Train the model\n",
    "model.fit(X_train, y_train, epochs=50, batch_size=32, validation_data=(X_test, y_test), verbose=1)\n",
    "\n",
    "# Predictions\n",
    "y_pred = model.predict(X_test)\n"
   ]
  },
  {
   "cell_type": "markdown",
   "metadata": {},
   "source": [
    "# EVALUATION "
   ]
  },
  {
   "cell_type": "code",
   "execution_count": null,
   "metadata": {},
   "outputs": [],
   "source": [
    "from sklearn.metrics import mean_squared_error, mean_absolute_error, r2_score\n",
    "\n",
    "# Compute evaluation metrics\n",
    "mse = mean_squared_error(y_test, y_pred) \n",
    "rmse = np.sqrt(mse)  # Root Mean Squared Error\n",
    "mae = mean_absolute_error(y_test, y_pred)\n",
    "r2 = r2_score(y_test, y_pred)  # R-squared score\n",
    "\n",
    "# Print resultscch\n",
    "print(f\"Test MSE: {mse:.4f}\")\n",
    "print(f\"Test RMSE: {rmse:.4f}\")\n",
    "print(f\"Test MAE: {mae:.4f}\")\n",
    "print(f\"Test R² Score: {r2:.4f}\")"
   ]
  }
 ],
 "metadata": {
  "kaggle": {
   "accelerator": "nvidiaTeslaT4",
   "dataSources": [
    {
     "datasetId": 6625176,
     "sourceId": 10692419,
     "sourceType": "datasetVersion"
    }
   ],
   "dockerImageVersionId": 30887,
   "isGpuEnabled": true,
   "isInternetEnabled": true,
   "language": "python",
   "sourceType": "notebook"
  },
  "kernelspec": {
   "display_name": "Python 3 (ipykernel)",
   "language": "python",
   "name": "python3"
  },
  "language_info": {
   "codemirror_mode": {
    "name": "ipython",
    "version": 3
   },
   "file_extension": ".py",
   "mimetype": "text/x-python",
   "name": "python",
   "nbconvert_exporter": "python",
   "pygments_lexer": "ipython3",
   "version": "3.8.18"
  }
 },
 "nbformat": 4,
 "nbformat_minor": 4
}
